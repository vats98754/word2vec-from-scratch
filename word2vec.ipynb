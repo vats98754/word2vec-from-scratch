{
 "cells": [
  {
   "cell_type": "code",
   "execution_count": 12,
   "id": "60144e4e",
   "metadata": {},
   "outputs": [],
   "source": [
    "import sys\n",
    "import re\n",
    "import numpy as np"
   ]
  },
  {
   "cell_type": "code",
   "execution_count": 2,
   "id": "5388124a",
   "metadata": {},
   "outputs": [
    {
     "name": "stdout",
     "output_type": "stream",
     "text": [
      "\u001b[33mDEPRECATION: Configuring installation scheme with distutils config files is deprecated and will no longer work in the near future. If you are using a Homebrew or Linuxbrew Python, please see discussion at https://github.com/Homebrew/homebrew-core/issues/76621\u001b[0m\u001b[33m\n",
      "\u001b[0mDefaulting to user installation because normal site-packages is not writeable\n"
     ]
    }
   ],
   "source": [
    "!{sys.executable} -m pip install -r requirements.txt"
   ]
  },
  {
   "cell_type": "code",
   "execution_count": 7,
   "id": "ed8773f2",
   "metadata": {},
   "outputs": [],
   "source": [
    "text = '''Mathematics is a field of study that discovers and organizes methods,\n",
    "    theories and theorems that are developed and proved for the needs of empirical\n",
    "    sciences and mathematics itself. There are many areas of mathematics, which \n",
    "    include number theory (the study of numbers), algebra (the study of formulas \n",
    "    and related structures), geometry (the study of shapes and spaces that contain \n",
    "    them), analysis (the study of continuous changes), and set theory (presently \n",
    "    used as a foundation for all mathematics).'''"
   ]
  },
  {
   "cell_type": "code",
   "execution_count": null,
   "id": "e18af3de",
   "metadata": {},
   "outputs": [],
   "source": [
    "def tokenize(text):\n",
    "    # the above pattern gets all words in the text, removing punctuation and extra whitespaces\n",
    "    pattern = re.compile(r'[A-Za-z]+[\\w^\\']*|[\\w^\\']*[A-Za-z]+[\\w^\\']*')\n",
    "    return pattern.findall(text)"
   ]
  },
  {
   "cell_type": "code",
   "execution_count": 8,
   "id": "2fc79431",
   "metadata": {},
   "outputs": [
    {
     "data": {
      "text/plain": [
       "['Mathematics',\n",
       " 'is',\n",
       " 'a',\n",
       " 'field',\n",
       " 'of',\n",
       " 'study',\n",
       " 'that',\n",
       " 'discovers',\n",
       " 'and',\n",
       " 'organizes',\n",
       " 'methods',\n",
       " 'theories',\n",
       " 'and',\n",
       " 'theorems',\n",
       " 'that',\n",
       " 'are',\n",
       " 'developed',\n",
       " 'and',\n",
       " 'proved',\n",
       " 'for',\n",
       " 'the',\n",
       " 'needs',\n",
       " 'of',\n",
       " 'empirical',\n",
       " 'sciences',\n",
       " 'and',\n",
       " 'mathematics',\n",
       " 'itself',\n",
       " 'There',\n",
       " 'are',\n",
       " 'many',\n",
       " 'areas',\n",
       " 'of',\n",
       " 'mathematics',\n",
       " 'which',\n",
       " 'include',\n",
       " 'number',\n",
       " 'theory',\n",
       " 'the',\n",
       " 'study',\n",
       " 'of',\n",
       " 'numbers',\n",
       " 'algebra',\n",
       " 'the',\n",
       " 'study',\n",
       " 'of',\n",
       " 'formulas',\n",
       " 'and',\n",
       " 'related',\n",
       " 'structures',\n",
       " 'geometry',\n",
       " 'the',\n",
       " 'study',\n",
       " 'of',\n",
       " 'shapes',\n",
       " 'and',\n",
       " 'spaces',\n",
       " 'that',\n",
       " 'contain',\n",
       " 'them',\n",
       " 'analysis',\n",
       " 'the',\n",
       " 'study',\n",
       " 'of',\n",
       " 'continuous',\n",
       " 'changes',\n",
       " 'and',\n",
       " 'set',\n",
       " 'theory',\n",
       " 'presently',\n",
       " 'used',\n",
       " 'as',\n",
       " 'a',\n",
       " 'foundation',\n",
       " 'for',\n",
       " 'all',\n",
       " 'mathematics']"
      ]
     },
     "execution_count": 8,
     "metadata": {},
     "output_type": "execute_result"
    }
   ],
   "source": [
    "tokens = tokenize(text)\n",
    "tokens"
   ]
  },
  {
   "cell_type": "code",
   "execution_count": 9,
   "id": "f887a576",
   "metadata": {},
   "outputs": [],
   "source": [
    "def mapping(tokens):\n",
    "    # create a mapping from words to their unique integer IDs\n",
    "    word_to_id = {}\n",
    "    id_to_word = {}\n",
    "    for index, token in enumerate(set(tokens)):\n",
    "        word_to_id[token] = index\n",
    "        id_to_word[index] = token\n",
    "    return word_to_id, id_to_word"
   ]
  },
  {
   "cell_type": "code",
   "execution_count": 11,
   "id": "06bee378",
   "metadata": {},
   "outputs": [
    {
     "name": "stdout",
     "output_type": "stream",
     "text": [
      "word_to_id {'of': 0, 'formulas': 1, 'areas': 2, 'proved': 3, 'There': 4, 'a': 5, 'theory': 6, 'itself': 7, 'shapes': 8, 'the': 9, 'changes': 10, 'spaces': 11, 'that': 12, 'discovers': 13, 'analysis': 14, 'foundation': 15, 'them': 16, 'used': 17, 'as': 18, 'continuous': 19, 'all': 20, 'set': 21, 'number': 22, 'structures': 23, 'methods': 24, 'Mathematics': 25, 'contain': 26, 'needs': 27, 'which': 28, 'theories': 29, 'include': 30, 'are': 31, 'algebra': 32, 'for': 33, 'is': 34, 'developed': 35, 'study': 36, 'related': 37, 'empirical': 38, 'and': 39, 'field': 40, 'numbers': 41, 'geometry': 42, 'mathematics': 43, 'many': 44, 'presently': 45, 'sciences': 46, 'organizes': 47, 'theorems': 48}\n",
      "id_to_word {0: 'of', 1: 'formulas', 2: 'areas', 3: 'proved', 4: 'There', 5: 'a', 6: 'theory', 7: 'itself', 8: 'shapes', 9: 'the', 10: 'changes', 11: 'spaces', 12: 'that', 13: 'discovers', 14: 'analysis', 15: 'foundation', 16: 'them', 17: 'used', 18: 'as', 19: 'continuous', 20: 'all', 21: 'set', 22: 'number', 23: 'structures', 24: 'methods', 25: 'Mathematics', 26: 'contain', 27: 'needs', 28: 'which', 29: 'theories', 30: 'include', 31: 'are', 32: 'algebra', 33: 'for', 34: 'is', 35: 'developed', 36: 'study', 37: 'related', 38: 'empirical', 39: 'and', 40: 'field', 41: 'numbers', 42: 'geometry', 43: 'mathematics', 44: 'many', 45: 'presently', 46: 'sciences', 47: 'organizes', 48: 'theorems'}\n"
     ]
    }
   ],
   "source": [
    "word_to_id, id_to_word = mapping(tokens)\n",
    "print(\"word_to_id\", word_to_id)\n",
    "print(\"id_to_word\", id_to_word)"
   ]
  },
  {
   "cell_type": "code",
   "execution_count": null,
   "id": "8dd33b99",
   "metadata": {},
   "outputs": [],
   "source": [
    "np.random.seed(42)  # for reproducibility\n",
    "\n",
    "def generate_training_data(tokens, word_to_id, window_size):\n",
    "    X = []\n",
    "    y = []\n",
    "    num_tokens = len(tokens)\n",
    "\n",
    "    for i in range(num_tokens):\n",
    "        # get the window_size within around token\n",
    "        idx = concat(\n",
    "            range(max(0, i - window_size), i),\n",
    "            range(i, min(num_tokens, i + window_size + 1))\n",
    "        )\n",
    "        # get the one-hot encoding for the context words\n",
    "        for j in idx:\n",
    "            if i == j:\n",
    "                continue\n",
    "            X.append(one_hot_encode(word_to_id[tokens[i]], len(word_to_id)))\n",
    "            y.append(one_hot_encode(word_to_id[tokens[j]], len(word_to_id)))\n",
    "\n",
    "    return np.asarray(X), np.asarray(y)\n",
    "\n",
    "def concat(*args):\n",
    "    for y in args:\n",
    "        # yield from does the flattening\n",
    "        yield from y\n",
    "\n",
    "def one_hot_encode(index, vocab_size):\n",
    "    vec = [0] * vocab_size\n",
    "    vec[index] = 1\n",
    "    return vec"
   ]
  },
  {
   "cell_type": "code",
   "execution_count": 14,
   "id": "2dde8181",
   "metadata": {},
   "outputs": [],
   "source": [
    "X, y = generate_training_data(tokens, word_to_id, 2)"
   ]
  },
  {
   "cell_type": "code",
   "execution_count": 15,
   "id": "2410c8b9",
   "metadata": {},
   "outputs": [
    {
     "data": {
      "text/plain": [
       "(302, 49)"
      ]
     },
     "execution_count": 15,
     "metadata": {},
     "output_type": "execute_result"
    }
   ],
   "source": [
    "X.shape"
   ]
  },
  {
   "cell_type": "code",
   "execution_count": 16,
   "id": "82130664",
   "metadata": {},
   "outputs": [
    {
     "data": {
      "text/plain": [
       "(302, 49)"
      ]
     },
     "execution_count": 16,
     "metadata": {},
     "output_type": "execute_result"
    }
   ],
   "source": [
    "y.shape"
   ]
  }
 ],
 "metadata": {
  "kernelspec": {
   "display_name": "Python 3",
   "language": "python",
   "name": "python3"
  },
  "language_info": {
   "codemirror_mode": {
    "name": "ipython",
    "version": 3
   },
   "file_extension": ".py",
   "mimetype": "text/x-python",
   "name": "python",
   "nbconvert_exporter": "python",
   "pygments_lexer": "ipython3",
   "version": "3.9.22"
  }
 },
 "nbformat": 4,
 "nbformat_minor": 5
}
